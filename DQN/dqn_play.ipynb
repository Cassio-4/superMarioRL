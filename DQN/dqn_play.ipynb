{
  "nbformat": 4,
  "nbformat_minor": 0,
  "metadata": {
    "colab": {
      "name": "dqn_play.ipynb",
      "provenance": []
    },
    "kernelspec": {
      "name": "python3",
      "display_name": "Python 3"
    },
    "accelerator": "GPU"
  },
  "cells": [
    {
      "cell_type": "code",
      "metadata": {
        "id": "d5nwALXUA8Sg",
        "colab_type": "code",
        "colab": {}
      },
      "source": [
        "!pip install gym pyvirtualdisplay > /dev/null 2>&1\n",
        "!apt-get install -y xvfb python-opengl ffmpeg > /dev/null 2>&1\n",
        "!apt-get install x11-utils > /dev/null 2>&1\n",
        "!pip install gym-super-mario-bros > /dev/null 2>&1"
      ],
      "execution_count": 0,
      "outputs": []
    },
    {
      "cell_type": "code",
      "metadata": {
        "id": "SzUW--20EgFu",
        "colab_type": "code",
        "colab": {}
      },
      "source": [
        "import gym\n",
        "from gym import logger as gymlogger\n",
        "from gym.wrappers import Monitor\n",
        "gymlogger.set_level(40) #error only\n",
        "\n",
        "import math\n",
        "import glob\n",
        "import io\n",
        "import base64\n",
        "from IPython.display import HTML\n",
        "from IPython import display as ipythondisplay\n",
        "from pyvirtualdisplay import Display\n",
        "display = Display(visible=0, size=(480, 512))\n",
        "display.start()"
      ],
      "execution_count": 0,
      "outputs": []
    },
    {
      "cell_type": "code",
      "metadata": {
        "id": "UxZ_askNEirJ",
        "colab_type": "code",
        "colab": {}
      },
      "source": [
        "def show_video():\n",
        "  mp4list = glob.glob('video/*.mp4')\n",
        "  if len(mp4list) > 0:\n",
        "    mp4 = mp4list[0]\n",
        "    video = io.open(mp4, 'r+b').read()\n",
        "    encoded = base64.b64encode(video)\n",
        "    ipythondisplay.display(HTML(data='''<video alt=\"test\" autoplay \n",
        "                loop controls style=\"height: 400px;\">\n",
        "                <source src=\"data:video/mp4;base64,{0}\" type=\"video/mp4\" />\n",
        "             </video>'''.format(encoded.decode('ascii'))))\n",
        "  else: \n",
        "    print(\"Could not find video\")\n",
        "\n",
        "def wrap_env(env):\n",
        "  env = Monitor(env, './video', force=True)\n",
        "  return env"
      ],
      "execution_count": 0,
      "outputs": []
    },
    {
      "cell_type": "code",
      "metadata": {
        "id": "exz7_A3tExWi",
        "colab_type": "code",
        "colab": {}
      },
      "source": [
        "from nes_py.wrappers import JoypadSpace\n",
        "import gym_super_mario_bros\n",
        "from gym_super_mario_bros.actions import SIMPLE_MOVEMENT\n",
        "import cv2\n",
        "from google.colab.patches import cv2_imshow"
      ],
      "execution_count": 0,
      "outputs": []
    },
    {
      "cell_type": "code",
      "metadata": {
        "id": "zeb0inKTdJW3",
        "colab_type": "code",
        "colab": {}
      },
      "source": [
        "import gym\n",
        "import time\n",
        "import argparse\n",
        "import numpy as np\n",
        "\n",
        "import torch\n",
        "\n",
        "from lib import wrappers\n",
        "from lib import dqn_model\n",
        "\n",
        "import collections\n",
        "\n",
        "DEFAULT_ENV_NAME = \"PongNoFrameskip-v4\"\n",
        "FPS = 25\n",
        "\n",
        "\n",
        "if __name__ == \"__main__\":\n",
        "    parser = argparse.ArgumentParser()\n",
        "    parser.add_argument(\"-m\", \"--model\", required=True, help=\"Model file to load\")\n",
        "    parser.add_argument(\"-e\", \"--env\", default=DEFAULT_ENV_NAME,\n",
        "                        help=\"Environment name to use, default=\" + DEFAULT_ENV_NAME)\n",
        "    parser.add_argument(\"-r\", \"--record\", help=\"Directory to store video recording\")\n",
        "    parser.add_argument(\"--no-visualize\", default=True, action='store_false', dest='visualize',\n",
        "                        help=\"Disable visualization of the game play\")\n",
        "    args = parser.parse_args()\n",
        "\n",
        "    env = wrappers.make_env(args.env)\n",
        "    if args.record:\n",
        "        env = gym.wrappers.Monitor(env, args.record)\n",
        "    net = dqn_model.DQN(env.observation_space.shape, env.action_space.n)\n",
        "    net.load_state_dict(torch.load(args.model, map_location=lambda storage, loc: storage))\n",
        "\n",
        "    state = env.reset()\n",
        "    total_reward = 0.0\n",
        "    c = collections.Counter()\n",
        "\n",
        "    while True:\n",
        "        start_ts = time.time()\n",
        "        if args.visualize:\n",
        "            env.render()\n",
        "        state_v = torch.tensor(np.array([state], copy=False))\n",
        "        q_vals = net(state_v).data.numpy()[0]\n",
        "        action = np.argmax(q_vals)\n",
        "        c[action] += 1\n",
        "        state, reward, done, _ = env.step(action)\n",
        "        total_reward += reward\n",
        "        if done:\n",
        "            break\n",
        "        if args.visualize:\n",
        "            delta = 1/FPS - (time.time() - start_ts)\n",
        "            if delta > 0:\n",
        "                time.sleep(delta)\n",
        "    print(\"Total reward: %.2f\" % total_reward)\n",
        "    print(\"Action counts:\", c)\n",
        "    if args.record:\n",
        "        env.env.close()"
      ],
      "execution_count": 0,
      "outputs": []
    },
    {
      "cell_type": "code",
      "metadata": {
        "id": "drNgos9hEx_a",
        "colab_type": "code",
        "colab": {}
      },
      "source": [
        "if __name__ == \"__main__\":\n",
        "    env = wrap_env(gym_super_mario_bros.make('SuperMarioBros-1-1-v0'))\n",
        "    env = JoypadSpace(env, SIMPLE_MOVEMENT)\n",
        "    total_reward = 0.0\n",
        "    total_steps = 0\n",
        "    obs = env.reset()\n",
        "    while True:\n",
        "        env.render()\n",
        "        action = env.action_space.sample()\n",
        "        obs, reward, done, _ = env.step(action)\n",
        "        total_reward += reward\n",
        "        print(total_reward)\n",
        "        total_steps += 1\n",
        "        if done:\n",
        "            break\n",
        "env.close()\n",
        "show_video()\n",
        "    \n",
        "print(\"Episode done in %d steps, total reward %.2f\" %(total_steps, total_reward))\n",
        "    "
      ],
      "execution_count": 0,
      "outputs": []
    }
  ]
}